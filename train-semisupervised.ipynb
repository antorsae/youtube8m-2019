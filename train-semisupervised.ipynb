{
 "cells": [
  {
   "cell_type": "code",
   "execution_count": 1,
   "metadata": {},
   "outputs": [],
   "source": [
    "import numpy as np \n",
    "import pandas as pd\n",
    "from fastai.data_block import get_files\n",
    "from fastprogress import master_bar, progress_bar\n",
    "import tensorflow as tf\n",
    "import torch \n",
    "import os\n",
    "import pickle\n",
    "import re\n",
    "from collections import defaultdict"
   ]
  },
  {
   "cell_type": "code",
   "execution_count": 2,
   "metadata": {},
   "outputs": [],
   "source": [
    "#%load_ext autoreload\n",
    "#%autoreload 2\n",
    "#os.environ[\"CUDA_VISIBLE_DEVICES\"]=\"2\"\n",
    "\n",
    "from pathlib import Path\n",
    "\n",
    "import torch\n",
    "import torch.nn as nn\n",
    "import torch.nn.parallel\n",
    "import torch.utils.data\n",
    "from torch.autograd import Variable\n",
    "import torch.nn.functional as F\n",
    "from sklearn.utils.class_weight import compute_class_weight"
   ]
  },
  {
   "cell_type": "code",
   "execution_count": 3,
   "metadata": {},
   "outputs": [],
   "source": [
    "from fastai import *\n",
    "from fastai.basic_train import *\n",
    "from fastai.basic_data import *\n",
    "from fastai.data_block import *\n",
    "from fastai.torch_core import *\n",
    "from fastai.train import *\n",
    "from fastai.callback import *\n",
    "from fastai.callbacks import *\n",
    "from fastai.distributed import *\n",
    "from fastai.layers import *\n",
    "from fastai.metrics import *"
   ]
  },
  {
   "cell_type": "code",
   "execution_count": 4,
   "metadata": {},
   "outputs": [],
   "source": [
    "flatten = lambda l : [item for sublist in l for item in sublist]\n",
    "def to_one_hot(v,c): return torch.zeros((c,)).scatter_(0,v,1.)"
   ]
  },
  {
   "cell_type": "code",
   "execution_count": 5,
   "metadata": {},
   "outputs": [],
   "source": [
    "A_SZ, V_SZ, L_SZ = 128,1024, 300 #303\n",
    "IN_PATH  = 'yt8m-processed'\n",
    "\n",
    "files = sorted([str(f) for f in get_files(IN_PATH, '.pkl')])"
   ]
  },
  {
   "cell_type": "code",
   "execution_count": 6,
   "metadata": {},
   "outputs": [
    {
     "data": {
      "text/html": [
       "\n",
       "    <div>\n",
       "        <style>\n",
       "            /* Turns off some styling */\n",
       "            progress {\n",
       "                /* gets rid of default border in Firefox and Opera. */\n",
       "                border: none;\n",
       "                /* Needs to be in here for Safari polyfill so background images work as expected. */\n",
       "                background-size: auto;\n",
       "            }\n",
       "            .progress-bar-interrupted, .progress-bar-interrupted::-webkit-progress-bar {\n",
       "                background: #F44336;\n",
       "            }\n",
       "        </style>\n",
       "      <progress value='90' class='' max='90', style='width:300px; height:20px; vertical-align: middle;'></progress>\n",
       "      100.00% [90/90 00:10<00:00]\n",
       "    </div>\n",
       "    "
      ],
      "text/plain": [
       "<IPython.core.display.HTML object>"
      ]
     },
     "metadata": {},
     "output_type": "display_data"
    }
   ],
   "source": [
    "d = dict()\n",
    "for f in progress_bar(files):\n",
    "    with open(f, 'rb') as handle:\n",
    "        _d = pickle.load(handle)\n",
    "    n = int(re.match(r'.*d(\\d+)\\.pkl', f)[1])\n",
    "    fa= re.sub(r'd\\d+\\.pkl', f'a{n}.bin', f) \n",
    "    fv= re.sub(r'd\\d+\\.pkl', f'v{n}.bin', f) \n",
    "    d.update({k: (fa,fv,*v) for k, v in _d.items()})"
   ]
  },
  {
   "cell_type": "code",
   "execution_count": 7,
   "metadata": {},
   "outputs": [
    {
     "data": {
      "text/html": [
       "\n",
       "    <div>\n",
       "        <style>\n",
       "            /* Turns off some styling */\n",
       "            progress {\n",
       "                /* gets rid of default border in Firefox and Opera. */\n",
       "                border: none;\n",
       "                /* Needs to be in here for Safari polyfill so background images work as expected. */\n",
       "                background-size: auto;\n",
       "            }\n",
       "            .progress-bar-interrupted, .progress-bar-interrupted::-webkit-progress-bar {\n",
       "                background: #F44336;\n",
       "            }\n",
       "        </style>\n",
       "      <progress value='3913565' class='' max='3913565', style='width:300px; height:20px; vertical-align: middle;'></progress>\n",
       "      100.00% [3913565/3913565 00:09<00:00]\n",
       "    </div>\n",
       "    "
      ],
      "text/plain": [
       "<IPython.core.display.HTML object>"
      ]
     },
     "metadata": {},
     "output_type": "display_data"
    }
   ],
   "source": [
    "# process dict to be:\n",
    "# fname_audio, fname_video,start,len,[labels]+,[segment_start,[segment_label,segment_score,]+]+\n",
    "fnames_a,fnames_v = set(), set()\n",
    "val_labels = set()\n",
    "for k,v in progress_bar(d.items()):\n",
    "    if len(v) == 5:\n",
    "        fa,fv,s,e,labels = v\n",
    "        d[k] = fa,fv,s,e,labels,[]\n",
    "    else:\n",
    "        fa,fv,s,e,labels,segments = v\n",
    "        sd = defaultdict(list)\n",
    "        for segment in segments:\n",
    "            s_l,s_s,s_ss,s_se = segment\n",
    "            val_labels.add(s_l)\n",
    "            assert s_se-s_ss == 5\n",
    "            sd[s_ss].append((s_l,s_s))\n",
    "        d[k] = fa,fv,s,e,labels,list(sd.items())\n",
    "    fnames_a.add(fa)\n",
    "    fnames_v.add(fv)\n",
    "        "
   ]
  },
  {
   "cell_type": "code",
   "execution_count": 8,
   "metadata": {},
   "outputs": [
    {
     "data": {
      "text/plain": [
       "('H5Ti',\n",
       " ('yt8m-processed/val_a0.bin',\n",
       "  'yt8m-processed/val_v0.bin',\n",
       "  10793610,\n",
       "  300,\n",
       "  [571],\n",
       "  [(80, [(571, 1.0)]),\n",
       "   (205, [(571, 1.0)]),\n",
       "   (150, [(571, 0.0)]),\n",
       "   (110, [(571, 1.0)]),\n",
       "   (180, [(571, 1.0)])]))"
      ]
     },
     "execution_count": 8,
     "metadata": {},
     "output_type": "execute_result"
    }
   ],
   "source": [
    "list(d.items())[-1]"
   ]
  },
  {
   "cell_type": "code",
   "execution_count": 9,
   "metadata": {},
   "outputs": [
    {
     "data": {
      "text/html": [
       "\n",
       "    <div>\n",
       "        <style>\n",
       "            /* Turns off some styling */\n",
       "            progress {\n",
       "                /* gets rid of default border in Firefox and Opera. */\n",
       "                border: none;\n",
       "                /* Needs to be in here for Safari polyfill so background images work as expected. */\n",
       "                background-size: auto;\n",
       "            }\n",
       "            .progress-bar-interrupted, .progress-bar-interrupted::-webkit-progress-bar {\n",
       "                background: #F44336;\n",
       "            }\n",
       "        </style>\n",
       "      <progress value='3913565' class='' max='3913565', style='width:300px; height:20px; vertical-align: middle;'></progress>\n",
       "      100.00% [3913565/3913565 00:18<00:00]\n",
       "    </div>\n",
       "    "
      ],
      "text/plain": [
       "<IPython.core.display.HTML object>"
      ]
     },
     "metadata": {},
     "output_type": "display_data"
    }
   ],
   "source": [
    "val_labels_l = sorted(val_labels)\n",
    "train_label_to_val = lambda x: val_labels_l.index(x)\n",
    "\n",
    "i = 0\n",
    "# filter items that DO NOT have val_labels, remove labels not in val_labels\n",
    "# and re-reference labels from 0..1000 (using val_labels as index)\n",
    "old_d = d.copy()\n",
    "d = {}\n",
    "for k,v in progress_bar(old_d.items()):\n",
    "    fa,fv,s,e,labels,segments = v\n",
    "    intersection = val_labels.intersection(labels)\n",
    "    if len(intersection)!=0:\n",
    "        new_labels = [train_label_to_val(label) for label in intersection]\n",
    "        new_segments = []\n",
    "        for s_s,s_ll in segments:\n",
    "            new_segments.append((s_s, [(train_label_to_val(s_label),s_score) for s_label,s_score in s_ll]))\n",
    "        d[k]= fa,fv,s,e,new_labels,new_segments"
   ]
  },
  {
   "cell_type": "code",
   "execution_count": 10,
   "metadata": {},
   "outputs": [
    {
     "data": {
      "text/plain": [
       "('H5Ti',\n",
       " ('yt8m-processed/val_a0.bin',\n",
       "  'yt8m-processed/val_v0.bin',\n",
       "  10793610,\n",
       "  300,\n",
       "  [316],\n",
       "  [(80, [(316, 1.0)]),\n",
       "   (205, [(316, 1.0)]),\n",
       "   (150, [(316, 0.0)]),\n",
       "   (110, [(316, 1.0)]),\n",
       "   (180, [(316, 1.0)])]))"
      ]
     },
     "execution_count": 10,
     "metadata": {},
     "output_type": "execute_result"
    }
   ],
   "source": [
    "list(d.items())[-1]"
   ]
  },
  {
   "cell_type": "code",
   "execution_count": 11,
   "metadata": {},
   "outputs": [],
   "source": [
    "all_labels = flatten([v[4] for v in d.values()])"
   ]
  },
  {
   "cell_type": "code",
   "execution_count": 12,
   "metadata": {},
   "outputs": [],
   "source": [
    "#N_V_LABELS = len(np.unique([item for sublist in [v[4] for v in d.values()] for item in sublist]))\n",
    "N_V_LABELS = 1000 # video labels in val_labels"
   ]
  },
  {
   "cell_type": "code",
   "execution_count": 13,
   "metadata": {},
   "outputs": [],
   "source": [
    "label_weights = Tensor(compute_class_weight('balanced', range(N_V_LABELS), all_labels))"
   ]
  },
  {
   "cell_type": "code",
   "execution_count": 14,
   "metadata": {},
   "outputs": [],
   "source": [
    "def mmap_bytetensor(f, shape, shared=False,size=None):\n",
    "    return torch.ByteTensor(torch.ByteStorage.from_file(\n",
    "        f, shared=shared, size=size if size is not None else os.path.getsize(f))).view(*shape)"
   ]
  },
  {
   "cell_type": "code",
   "execution_count": 15,
   "metadata": {},
   "outputs": [],
   "source": [
    "class YTItem(ItemBase):\n",
    "    a = {fa: mmap_bytetensor(fa, (-1,A_SZ)) for fa in fnames_a}\n",
    "    v = {fv: mmap_bytetensor(fv, (-1,V_SZ)) for fv in fnames_v} \n",
    "    \n",
    "    def __init__(self,i): \n",
    "        self.i = i\n",
    "\n",
    "    @property\n",
    "    def data(self):\n",
    "        vid, (fname_a,fname_v,idx,l,classes,segments) = self.i\n",
    "        a = torch.zeros((L_SZ,A_SZ), dtype=torch.float32) # audio\n",
    "        v = torch.zeros((L_SZ,V_SZ), dtype=torch.float32) # video  \n",
    "        m = torch.zeros((L_SZ,),     dtype=torch.bool)    # mask\n",
    "        l = min(min(idx+l, YTItem.a[fname_a].shape[0]) - idx, L_SZ)\n",
    "        #l = l // 5 * 5 # multiple of 5\n",
    "        a[:l] = (YTItem.a[fname_a][idx:idx+l].to(dtype=torch.float32))/255 - 0.5\n",
    "        v[:l] = (YTItem.v[fname_v][idx:idx+l].to(dtype=torch.float32))/255 - 0.5\n",
    "        m[l:] = True\n",
    "        return a,v,m,l\n",
    "        \n",
    "    def __str__(self):\n",
    "        # TODO: count n_atoms correctly. \n",
    "        return f'{self.i}'\n",
    "    \n",
    "    def apply_tfms(self, tfms:Collection, **kwargs):\n",
    "        x = self.clone()\n",
    "        for t in tfms:\n",
    "            if t: x.data = t(x.data)\n",
    "        return x\n",
    "    \n",
    "    def clone(self):\n",
    "        return self.__class__(self.i)"
   ]
  },
  {
   "cell_type": "code",
   "execution_count": 16,
   "metadata": {},
   "outputs": [],
   "source": [
    "class YTLabel(ItemBase):\n",
    "    def __init__(self,labels,segments,**kwargs): \n",
    "        self.labels, self.segments = labels,segments\n",
    "        if len(segments):\n",
    "            lll = flatten([[(o,label,score) for label,score in l ]for (o,l) in segments])\n",
    "            i = torch.LongTensor([(o//5, c)for (o,c,_) in lll])\n",
    "            v = torch.Tensor([s+1 for (_,_,s) in lll]) # 0,1 => 1,2\n",
    "            self.t_segments = torch.sparse.FloatTensor(i.t(), v, torch.Size([1+L_SZ//5,N_V_LABELS]))\n",
    "        else:\n",
    "            self.t_segments = torch.sparse.FloatTensor(torch.LongTensor([[L_SZ//5,0]]).t(), \n",
    "                                                  torch.Tensor([1]),torch.Size([1+L_SZ//5,N_V_LABELS]))\n",
    "        self.t_labels = LongTensor(self.labels)\n",
    "    @property\n",
    "    def data(self):\n",
    "#        return to_one_hot(self.t_labels, N_V_LABELS),self.t_segments.to_dense()\n",
    "        return to_one_hot(self.t_labels, N_V_LABELS)#,self.t_segments.to_dense()\n",
    "    def __str__(self):\n",
    "        return f'{self.labels}, {self.segments}'\n",
    "    def apply_tfms(self, tfms:Collection, **kwargs):\n",
    "        y = self.clone()\n",
    "        for t in tfms:\n",
    "            if t: y.data = t(y.data)\n",
    "        return y\n",
    "    def clone(self): return self.__class__(self.labels, self.segment)\n",
    "    def __hash__(self): return hash(str(self))\n",
    "    \n",
    "class YTLabelList(ItemList):\n",
    "    def __init__(self, items:Iterator, **kwargs):\n",
    "        super().__init__(items, **kwargs)\n",
    "\n",
    "    def get(self, i):\n",
    "        o = super().get(i)\n",
    "        return YTLabel(*o)\n",
    "\n",
    "    def reconstruct(self,t): return 0; # TODO for viz !!!! ScalarCouplingItem(t.numpy())"
   ]
  },
  {
   "cell_type": "code",
   "execution_count": 17,
   "metadata": {},
   "outputs": [],
   "source": [
    "data = ItemList(items=(YTItem(i) for i in d.items()),label_cls=YTLabel).split_by_rand_pct(0.2, seed=45)"
   ]
  },
  {
   "cell_type": "code",
   "execution_count": 18,
   "metadata": {},
   "outputs": [],
   "source": [
    "t = YTLabel(data.train[2097294-418].i[1][4],data.train[2097294-418].i[1][5]).data"
   ]
  },
  {
   "cell_type": "code",
   "execution_count": 19,
   "metadata": {},
   "outputs": [
    {
     "data": {
      "text/plain": [
       "tensor([0., 1., 0., 0., 0., 0., 0., 0., 0., 0., 0., 0., 0., 0., 0., 0., 0., 0.,\n",
       "        0., 0., 1., 0., 0., 0., 0., 0., 0., 0., 0., 0., 0., 0., 0., 0., 0., 0.,\n",
       "        0., 0., 0., 0., 0., 0., 0., 0., 0., 0., 0., 0., 0., 0., 0., 0., 0., 0.,\n",
       "        0., 0., 0., 0., 0., 0., 0., 0., 0., 0., 0., 0., 0., 0., 0., 0., 0., 0.,\n",
       "        1., 0., 0., 0., 0., 0., 0., 0., 0., 0., 0., 0., 0., 0., 0., 0., 0., 0.,\n",
       "        0., 0., 0., 0., 0., 0., 0., 0., 0., 0., 0., 0., 0., 0., 0., 0., 0., 0.,\n",
       "        0., 0., 0., 0., 0., 0., 0., 0., 0., 0., 0., 0., 0., 0., 0., 0., 0., 0.,\n",
       "        0., 0., 0., 0., 0., 0., 0., 0., 0., 0., 0., 0., 0., 0., 0., 0., 0., 0.,\n",
       "        0., 0., 0., 0., 0., 0., 0., 0., 0., 0., 0., 0., 0., 0., 0., 0., 0., 0.,\n",
       "        0., 0., 0., 0., 0., 0., 0., 0., 0., 0., 0., 0., 0., 0., 0., 0., 0., 0.,\n",
       "        0., 0., 0., 0., 0., 0., 0., 0., 0., 0., 0., 0., 0., 0., 0., 0., 0., 0.,\n",
       "        0., 0., 0., 0., 0., 0., 0., 0., 0., 0., 0., 0., 0., 0., 0., 0., 0., 0.,\n",
       "        0., 0., 0., 0., 0., 0., 0., 0., 0., 0., 0., 0., 0., 0., 0., 0., 0., 0.,\n",
       "        0., 0., 0., 0., 0., 0., 0., 0., 0., 0., 0., 0., 0., 0., 0., 0., 0., 0.,\n",
       "        0., 0., 1., 0., 0., 0., 0., 0., 0., 0., 0., 0., 0., 0., 0., 0., 0., 0.,\n",
       "        0., 0., 0., 0., 0., 0., 0., 0., 0., 0., 0., 0., 0., 0., 0., 0., 0., 0.,\n",
       "        0., 0., 0., 0., 0., 0., 0., 0., 0., 0., 0., 0., 0., 0., 0., 0., 0., 0.,\n",
       "        0., 0., 0., 0., 0., 0., 0., 0., 0., 0., 0., 0., 0., 0., 0., 0., 0., 0.,\n",
       "        0., 0., 0., 0., 0., 0., 0., 0., 0., 0., 0., 0., 0., 0., 0., 0., 0., 0.,\n",
       "        0., 0., 0., 0., 0., 0., 0., 0., 0., 0., 0., 0., 0., 0., 0., 0., 0., 0.,\n",
       "        0., 0., 0., 0., 0., 0., 0., 0., 0., 0., 0., 0., 0., 0., 0., 0., 0., 0.,\n",
       "        0., 0., 0., 0., 0., 0., 0., 0., 0., 0., 0., 0., 0., 0., 0., 0., 0., 0.,\n",
       "        0., 0., 0., 0., 0., 0., 0., 0., 0., 0., 0., 0., 0., 0., 0., 0., 0., 0.,\n",
       "        0., 0., 0., 0., 0., 0., 0., 0., 0., 0., 0., 0., 0., 0., 0., 0., 0., 0.,\n",
       "        0., 0., 0., 0., 0., 0., 0., 0., 0., 0., 0., 0., 1., 0., 0., 0., 0., 0.,\n",
       "        0., 0., 0., 0., 0., 0., 0., 0., 0., 0., 0., 0., 0., 0., 0., 0., 0., 0.,\n",
       "        0., 0., 0., 0., 0., 0., 0., 0., 0., 0., 0., 0., 0., 0., 0., 0., 0., 0.,\n",
       "        0., 0., 0., 0., 0., 0., 0., 0., 0., 0., 0., 0., 1., 0., 0., 0., 0., 0.,\n",
       "        0., 0., 0., 0., 0., 0., 0., 0., 0., 0., 0., 0., 0., 0., 0., 0., 0., 0.,\n",
       "        0., 0., 0., 0., 0., 0., 0., 0., 0., 0., 0., 0., 0., 0., 0., 0., 0., 0.,\n",
       "        0., 0., 0., 0., 0., 0., 0., 0., 0., 0., 0., 0., 0., 0., 0., 0., 0., 0.,\n",
       "        0., 0., 0., 0., 0., 0., 0., 0., 0., 0., 0., 0., 0., 0., 0., 0., 0., 0.,\n",
       "        0., 0., 0., 0., 0., 0., 0., 0., 0., 0., 0., 0., 0., 0., 0., 0., 0., 0.,\n",
       "        0., 0., 0., 0., 0., 0., 0., 0., 0., 0., 0., 0., 0., 0., 0., 0., 0., 0.,\n",
       "        0., 0., 0., 0., 0., 0., 0., 0., 0., 0., 0., 0., 0., 0., 0., 0., 0., 0.,\n",
       "        0., 0., 0., 0., 0., 0., 0., 0., 0., 0., 0., 0., 0., 0., 0., 0., 0., 0.,\n",
       "        0., 0., 0., 0., 0., 0., 0., 0., 0., 0., 0., 0., 0., 0., 0., 0., 0., 0.,\n",
       "        0., 0., 0., 0., 0., 0., 1., 0., 0., 0., 0., 0., 0., 0., 0., 0., 0., 0.,\n",
       "        0., 0., 0., 0., 0., 0., 0., 0., 0., 0., 0., 0., 0., 0., 0., 0., 0., 0.,\n",
       "        0., 0., 0., 0., 0., 0., 0., 0., 0., 0., 0., 0., 0., 0., 0., 0., 0., 0.,\n",
       "        0., 0., 0., 0., 0., 0., 0., 0., 0., 0., 0., 0., 0., 0., 0., 0., 0., 0.,\n",
       "        0., 0., 0., 0., 0., 0., 0., 0., 0., 0., 0., 0., 0., 0., 0., 0., 0., 0.,\n",
       "        0., 0., 0., 0., 0., 0., 0., 0., 0., 0., 0., 0., 0., 0., 0., 0., 0., 0.,\n",
       "        0., 0., 0., 0., 0., 0., 0., 0., 0., 0., 0., 0., 0., 0., 0., 0., 0., 0.,\n",
       "        0., 0., 0., 0., 0., 0., 0., 0., 0., 0., 0., 0., 0., 0., 0., 0., 0., 0.,\n",
       "        0., 0., 0., 0., 0., 0., 0., 0., 0., 0., 0., 0., 0., 0., 0., 0., 0., 0.,\n",
       "        0., 0., 0., 0., 0., 0., 0., 0., 0., 0., 0., 0., 0., 0., 0., 0., 0., 0.,\n",
       "        0., 0., 0., 0., 0., 0., 0., 0., 0., 0., 0., 0., 0., 0., 0., 0., 0., 0.,\n",
       "        0., 0., 0., 0., 0., 0., 0., 0., 0., 0., 0., 0., 0., 0., 0., 0., 0., 0.,\n",
       "        0., 0., 0., 0., 0., 0., 0., 0., 0., 0., 0., 0., 0., 0., 0., 0., 0., 0.,\n",
       "        0., 0., 0., 0., 0., 0., 0., 0., 0., 0., 0., 0., 0., 0., 0., 0., 0., 0.,\n",
       "        0., 0., 0., 0., 0., 0., 0., 0., 0., 0., 0., 0., 0., 0., 0., 0., 0., 0.,\n",
       "        0., 0., 0., 0., 0., 0., 0., 0., 0., 0., 0., 0., 0., 0., 0., 0., 0., 0.,\n",
       "        0., 0., 0., 0., 0., 0., 0., 0., 0., 0., 0., 0., 0., 0., 0., 0., 0., 0.,\n",
       "        0., 0., 0., 0., 0., 0., 0., 0., 0., 0., 0., 0., 0., 0., 0., 0., 0., 0.,\n",
       "        0., 0., 0., 0., 0., 0., 0., 0., 0., 0.])"
      ]
     },
     "execution_count": 19,
     "metadata": {},
     "output_type": "execute_result"
    }
   ],
   "source": [
    "t"
   ]
  },
  {
   "cell_type": "code",
   "execution_count": 20,
   "metadata": {},
   "outputs": [
    {
     "data": {
      "text/plain": [
       "tensor([-1., -1., -1., -1., -1., -1., -1., -1., -1., -1., -1., -1., -1., -1.,\n",
       "        -1., -1., -1., -1., -1., -1., -1., -1., -1., -1., -1., -1., -1., -1.,\n",
       "        -1., -1., -1., -1., -1., -1., -1., -1., -1., -1., -1., -1., -1., -1.,\n",
       "        -1., -1., -1., -1., -1., -1., -1., -1., -1., -1., -1., -1., -1., -1.,\n",
       "        -1., -1., -1., -1., -1., -1., -1., -1., -1., -1., -1., -1., -1., -1.,\n",
       "        -1., -1., -1., -1., -1., -1., -1., -1., -1., -1., -1., -1., -1., -1.,\n",
       "        -1., -1., -1., -1., -1., -1., -1., -1., -1., -1., -1., -1., -1., -1.,\n",
       "        -1., -1., -1., -1., -1., -1., -1., -1., -1., -1., -1., -1., -1., -1.,\n",
       "        -1., -1., -1., -1., -1., -1., -1., -1., -1., -1., -1., -1., -1., -1.,\n",
       "        -1., -1., -1., -1., -1., -1., -1., -1., -1., -1., -1., -1., -1., -1.,\n",
       "        -1., -1., -1., -1., -1., -1., -1., -1., -1., -1., -1., -1., -1., -1.,\n",
       "        -1., -1., -1., -1., -1., -1., -1., -1., -1., -1., -1., -1., -1., -1.,\n",
       "        -1., -1., -1., -1., -1., -1., -1., -1., -1., -1., -1., -1., -1., -1.,\n",
       "        -1., -1., -1., -1., -1., -1., -1., -1., -1., -1., -1., -1., -1., -1.,\n",
       "        -1., -1., -1., -1., -1., -1., -1., -1., -1., -1., -1., -1., -1., -1.,\n",
       "        -1., -1., -1., -1., -1., -1., -1., -1., -1., -1., -1., -1., -1., -1.,\n",
       "        -1., -1., -1., -1., -1., -1., -1., -1., -1., -1., -1., -1., -1., -1.,\n",
       "        -1., -1., -1., -1., -1., -1., -1., -1., -1., -1., -1., -1., -1., -1.,\n",
       "        -1., -1., -1., -1., -1., -1., -1., -1., -1., -1., -1., -1., -1., -1.,\n",
       "        -1., -1., -1., -1., -1., -1., -1., -1., -1., -1., -1., -1., -1., -1.,\n",
       "        -1., -1., -1., -1., -1., -1., -1., -1., -1., -1., -1., -1., -1., -1.,\n",
       "        -1., -1., -1., -1., -1., -1., -1., -1., -1., -1., -1., -1., -1., -1.,\n",
       "        -1., -1., -1., -1., -1., -1., -1., -1., -1., -1., -1., -1., -1., -1.,\n",
       "        -1., -1., -1., -1., -1., -1., -1., -1., -1., -1., -1., -1., -1., -1.,\n",
       "        -1., -1., -1., -1., -1., -1., -1., -1., -1., -1., -1., -1., -1., -1.,\n",
       "        -1., -1., -1., -1., -1., -1., -1., -1., -1., -1., -1., -1., -1., -1.,\n",
       "        -1., -1., -1., -1., -1., -1., -1., -1., -1., -1., -1., -1., -1., -1.,\n",
       "        -1., -1., -1., -1., -1., -1., -1., -1., -1., -1., -1., -1., -1., -1.,\n",
       "        -1., -1., -1., -1., -1., -1., -1., -1., -1., -1., -1., -1., -1., -1.,\n",
       "        -1., -1., -1., -1., -1., -1., -1., -1., -1., -1., -1., -1., -1., -1.,\n",
       "        -1., -1., -1., -1., -1., -1., -1., -1., -1., -1., -1., -1., -1., -1.,\n",
       "        -1., -1., -1., -1., -1., -1., -1., -1., -1., -1., -1., -1., -1., -1.,\n",
       "        -1., -1., -1., -1., -1., -1., -1., -1., -1., -1., -1., -1., -1., -1.,\n",
       "        -1., -1., -1., -1., -1., -1., -1., -1., -1., -1., -1., -1., -1., -1.,\n",
       "        -1., -1., -1., -1., -1., -1., -1., -1., -1., -1., -1., -1., -1., -1.,\n",
       "        -1., -1., -1., -1., -1., -1., -1., -1., -1., -1., -1., -1., -1., -1.,\n",
       "        -1., -1., -1., -1., -1., -1., -1., -1., -1., -1., -1., -1., -1., -1.,\n",
       "        -1., -1., -1., -1., -1., -1., -1., -1., -1., -1., -1., -1., -1., -1.,\n",
       "        -1., -1., -1., -1., -1., -1., -1., -1., -1., -1., -1., -1., -1., -1.,\n",
       "        -1., -1., -1., -1., -1., -1., -1., -1., -1., -1., -1., -1., -1., -1.,\n",
       "        -1., -1., -1., -1., -1., -1., -1., -1., -1., -1., -1., -1., -1., -1.,\n",
       "        -1., -1., -1., -1., -1., -1., -1., -1., -1., -1., -1., -1., -1., -1.,\n",
       "        -1., -1., -1., -1., -1., -1., -1., -1., -1., -1., -1., -1., -1., -1.,\n",
       "        -1., -1., -1., -1., -1., -1., -1., -1., -1., -1., -1., -1., -1., -1.,\n",
       "        -1., -1., -1., -1., -1., -1., -1., -1., -1., -1., -1., -1., -1., -1.,\n",
       "        -1., -1., -1., -1., -1., -1., -1., -1., -1., -1., -1., -1., -1., -1.,\n",
       "        -1., -1., -1., -1., -1., -1., -1., -1., -1., -1., -1., -1., -1., -1.,\n",
       "        -1., -1., -1., -1., -1., -1., -1., -1., -1., -1., -1., -1., -1., -1.,\n",
       "        -1., -1., -1., -1., -1., -1., -1., -1., -1., -1., -1., -1., -1., -1.,\n",
       "        -1., -1., -1., -1., -1., -1., -1., -1., -1., -1., -1., -1., -1., -1.,\n",
       "        -1., -1., -1., -1., -1., -1., -1., -1., -1., -1., -1., -1., -1., -1.,\n",
       "        -1., -1., -1., -1., -1., -1., -1., -1., -1., -1., -1., -1., -1., -1.,\n",
       "        -1., -1., -1., -1., -1., -1., -1., -1., -1., -1., -1., -1., -1., -1.,\n",
       "        -1., -1., -1., -1., -1., -1., -1., -1., -1., -1., -1., -1., -1., -1.,\n",
       "        -1., -1., -1., -1., -1., -1., -1., -1., -1., -1., -1., -1., -1., -1.,\n",
       "        -1., -1., -1., -1., -1., -1., -1., -1., -1., -1., -1., -1., -1., -1.,\n",
       "        -1., -1., -1., -1., -1., -1., -1., -1., -1., -1., -1., -1., -1., -1.,\n",
       "        -1., -1., -1., -1., -1., -1., -1., -1., -1., -1., -1., -1., -1., -1.,\n",
       "        -1., -1., -1., -1., -1., -1., -1., -1., -1., -1., -1., -1., -1., -1.,\n",
       "        -1., -1., -1., -1., -1., -1., -1., -1., -1., -1., -1., -1., -1., -1.,\n",
       "        -1., -1., -1., -1., -1., -1., -1., -1., -1., -1., -1., -1., -1., -1.,\n",
       "        -1., -1., -1., -1., -1., -1., -1., -1., -1., -1., -1., -1., -1., -1.,\n",
       "        -1., -1., -1., -1., -1., -1., -1., -1., -1., -1., -1., -1., -1., -1.,\n",
       "        -1., -1., -1., -1., -1., -1., -1., -1., -1., -1., -1., -1., -1., -1.,\n",
       "        -1., -1., -1., -1., -1., -1., -1., -1., -1., -1., -1., -1., -1., -1.,\n",
       "        -1., -1., -1., -1., -1., -1., -1., -1., -1., -1., -1., -1., -1., -1.,\n",
       "        -1., -1., -1., -1., -1., -1., -1., -1., -1., -1., -1., -1., -1., -1.,\n",
       "        -1., -1., -1., -1., -1., -1., -1., -1., -1., -1., -1., -1., -1., -1.,\n",
       "        -1., -1., -1., -1., -1., -1., -1., -1., -1., -1., -1., -1., -1., -1.,\n",
       "        -1., -1., -1., -1., -1., -1., -1., -1., -1., -1., -1., -1., -1., -1.,\n",
       "        -1., -1., -1., -1., -1., -1., -1., -1., -1., -1., -1., -1., -1., -1.,\n",
       "        -1., -1., -1., -1., -1., -1.])"
      ]
     },
     "execution_count": 20,
     "metadata": {},
     "output_type": "execute_result"
    }
   ],
   "source": [
    "lll = flatten([[(o,label,score) for label,score in l ]for (o,l) in data.train[2097294-31110].i[1][5]])\n",
    "i = torch.LongTensor([(o//5, c)for (o,c,_) in lll])\n",
    "v = torch.Tensor([s+1 for (_,_,s) in lll])\n",
    "torch.sparse.FloatTensor(i.t(), v, torch.Size([L_SZ//5,N_V_LABELS])).to_dense()[32]-1\n"
   ]
  },
  {
   "cell_type": "code",
   "execution_count": 21,
   "metadata": {},
   "outputs": [
    {
     "data": {
      "text/plain": [
       "tensor([[  7, 164],\n",
       "        [ 21, 164],\n",
       "        [  6, 164],\n",
       "        [ 13, 164],\n",
       "        [ 16, 164]])"
      ]
     },
     "execution_count": 21,
     "metadata": {},
     "output_type": "execute_result"
    }
   ],
   "source": [
    "i"
   ]
  },
  {
   "cell_type": "code",
   "execution_count": 22,
   "metadata": {},
   "outputs": [
    {
     "data": {
      "text/plain": [
       "LabelLists;\n",
       "\n",
       "Train: LabelList (2097294 items)\n",
       "x: ItemList\n",
       "('sCyE', ('yt8m-processed/a0.bin', 'yt8m-processed/v0.bin', 600, 251, [4], [])),('8gyE', ('yt8m-processed/a0.bin', 'yt8m-processed/v0.bin', 851, 258, [2, 0], [])),('N6yE', ('yt8m-processed/a0.bin', 'yt8m-processed/v0.bin', 1409, 290, [13], [])),('yDyE', ('yt8m-processed/a0.bin', 'yt8m-processed/v0.bin', 1956, 300, [15, 0, 11], [])),('9ryE', ('yt8m-processed/a0.bin', 'yt8m-processed/v0.bin', 2506, 173, [22, 59], []))\n",
       "y: YTLabelList\n",
       "[4], [],[2, 0], [],[13], [],[15, 0, 11], [],[22, 59], []\n",
       "Path: .;\n",
       "\n",
       "Valid: LabelList (524323 items)\n",
       "x: ItemList\n",
       "('n5DH', ('yt8m-processed/a74.bin', 'yt8m-processed/v74.bin', 9047287, 208, [6, 188], [])),('w3vF', ('yt8m-processed/a1.bin', 'yt8m-processed/v1.bin', 6062249, 162, [14, 3, 192, 9, 56], [])),('RrOe', ('yt8m-processed/a19.bin', 'yt8m-processed/v19.bin', 5969173, 162, [32], [])),('yi0X', ('yt8m-processed/a23.bin', 'yt8m-processed/v23.bin', 3728527, 150, [448], [])),('m823', ('yt8m-processed/a23.bin', 'yt8m-processed/v23.bin', 8585231, 241, [52, 259, 252, 74], []))\n",
       "y: YTLabelList\n",
       "[6, 188], [],[14, 3, 192, 9, 56], [],[32], [],[448], [],[52, 259, 252, 74], []\n",
       "Path: .;\n",
       "\n",
       "Test: None"
      ]
     },
     "execution_count": 22,
     "metadata": {},
     "output_type": "execute_result"
    }
   ],
   "source": [
    "data.label_from_func(lambda x: x.i[1][4:],label_cls=YTLabelList)"
   ]
  },
  {
   "cell_type": "code",
   "execution_count": 23,
   "metadata": {},
   "outputs": [],
   "source": [
    "data = data.databunch()"
   ]
  },
  {
   "cell_type": "code",
   "execution_count": 24,
   "metadata": {},
   "outputs": [],
   "source": [
    "class DummyDecoder(Module):\n",
    "    def __init__(self,dropout:float=0):\n",
    "        self.dropout = nn.Dropout(dropout)\n",
    "\n",
    "    def forward(self,tgt, memory, tgt_mask=None, memory_mask=None, \n",
    "                tgt_key_padding_mask=None, memory_key_padding_mask=None):\n",
    "        return self.dropout(memory)\n",
    "    \n",
    "class PositionalEncoding(Module):\n",
    "    \"Encode the position with a sinusoid.\"\n",
    "    def __init__(self, d:int): self.register_buffer('freq', 1 / (10000 ** (torch.arange(0., d, 2.)/d)))\n",
    "\n",
    "    def forward(self, pos:Tensor):\n",
    "        inp = torch.ger(pos, self.freq)\n",
    "        enc = torch.cat([inp.sin(), inp.cos()], dim=-1)\n",
    "        return enc\n",
    "    \n",
    "class YTTransformer(Module):\n",
    "    def __init__(self,n_layers,n_heads,d_model,embed_p:float=0,final_p:float=0,d_head=None,deep_decoder=False,\n",
    "                 dense_out=False,recurrent_decoder=False, pos=True, use_audio=True, **kwargs):\n",
    "        \n",
    "        self.use_audio = use_audio\n",
    "        self.d_av = (V_SZ + A_SZ) if self.use_audio else V_SZ\n",
    "        self.d_model = d_model\n",
    "        self.pos = pos\n",
    "        self.recurrent_decoder = recurrent_decoder\n",
    "        d_head = ifnone(d_head, d_model//n_heads)\n",
    "        self.pre_encoder = nn.Linear(self.d_av, d_model)\n",
    "\n",
    "        self.transformer = nn.Transformer(num_encoder_layers=n_layers,\n",
    "                                          nhead=n_heads,d_model=d_model,dim_feedforward=d_inner,\n",
    "                                          dropout = 0., custom_decoder=DummyDecoder(dropout=0.))\n",
    "    \n",
    "        self.pos_enc = PositionalEncoding(d_model) if self.pos else nn.Embedding(L_SZ//5*5, d_model)\n",
    "\n",
    "        if recurrent_decoder:\n",
    "            self.rnn = torch.nn.GRU(d_model, N_V_LABELS)\n",
    "        else:\n",
    "            self.label_pool0   = nn.AdaptiveAvgPool1d(1)\n",
    "            self.label_pool1   = nn.AdaptiveMaxPool1d(1)\n",
    "            self.label_decoder = nn.Linear(d_model*2, N_V_LABELS)\n",
    "\n",
    "        self.segment_pool    = nn.AdaptiveAvgPool1d(L_SZ//5)\n",
    "        self.segment_decoder = nn.Conv1d(d_model, N_V_LABELS,1)\n",
    "    \n",
    "        \n",
    "    def forward(self,a,v,m,l):\n",
    "        bs,l_v,c_v = v.shape\n",
    "        pos = torch.arange(0, L_SZ//5*5, device=v.device, dtype=v.dtype if self.pos else torch.int64)\n",
    "        if self.use_audio: \n",
    "            x = torch.cat([v,a], dim=-1)\n",
    "        else:\n",
    "            x = v\n",
    "        x = self.pre_encoder(x)\n",
    "        x = (x + self.pos_enc(pos)[None]) * math.sqrt(self.d_model)\n",
    "        x.masked_fill_(m.unsqueeze(-1), 0.)\n",
    "        x = x.transpose(0,1)\n",
    "        x = self.transformer(x, x, src_key_padding_mask=None)\n",
    "        if self.recurrent_decoder:\n",
    "            self.rnn.flatten_parameters()\n",
    "            output,labels = self.rnn(x) # \n",
    "            labels = labels.permute(1,2,0).squeeze(-1) # (S, N, H_{out})\n",
    "            x = x.permute(1,2,0)\n",
    "        else:\n",
    "            x = x.permute(1,2,0)\n",
    "            labels = x[:,:,0]\n",
    "#            labels = torch.cat((self.label_pool0(x),self.label_pool1(x)),dim=1).squeeze(-1)\n",
    "#            labels = self.label_decoder(labels)\n",
    "        segments = self.segment_pool(x).squeeze(-1)\n",
    "        segments = self.segment_decoder(segments).squeeze(-1)\n",
    "        \n",
    "        return labels#,segments\n",
    "    \n",
    "    def reset(self): pass"
   ]
  },
  {
   "cell_type": "code",
   "execution_count": 25,
   "metadata": {},
   "outputs": [],
   "source": [
    "class MaskedLoss(Module):\n",
    "    def __init__(self):\n",
    "        self.loss = torch.nn.BCEWithLogitsLoss(pos_weight=label_weights.cuda())\n",
    "\n",
    "    def forward(self, from_forward, t_labels):#, t_segments):\n",
    "        #p_labels,p_segments= from_forward        \n",
    "        p_labels= from_forward        \n",
    "        return self.loss(p_labels,t_labels)"
   ]
  },
  {
   "cell_type": "code",
   "execution_count": 26,
   "metadata": {},
   "outputs": [],
   "source": [
    "torch.manual_seed(0)\n",
    "net, learner = None,None\n",
    "gc.collect()\n",
    "torch.cuda.empty_cache()\n",
    "\n",
    "n_layers=8\n",
    "n_heads=10\n",
    "d_model=N_V_LABELS # V_SZ+A_SZ\n",
    "d_inner=2048\n",
    "\n",
    "deep_decoder = False\n",
    "dense_out = False\n",
    "\n",
    "net = YTTransformer(n_layers=n_layers, n_heads=n_heads,d_model=d_model,d_inner=d_inner,\n",
    "                      resid_p=0., attn_p=0., ff_p=0., embed_p=0, final_p=0.,\n",
    "                      deep_decoder=deep_decoder, dense_out=dense_out, recurrent_decoder=False)\n",
    "\n",
    "learner = Learner(data,net,loss_func=MaskedLoss()).to_fp32()"
   ]
  },
  {
   "cell_type": "code",
   "execution_count": 27,
   "metadata": {},
   "outputs": [
    {
     "data": {
      "text/plain": [
       "YTTransformer\n",
       "======================================================================\n",
       "Layer (type)         Output Shape         Param #    Trainable \n",
       "======================================================================\n",
       "Linear               [300, 1000]          1,153,000  True      \n",
       "______________________________________________________________________\n",
       "Linear               [1, 2048]            2,050,048  True      \n",
       "______________________________________________________________________\n",
       "Dropout              [1, 2048]            0          False     \n",
       "______________________________________________________________________\n",
       "Linear               [1, 1000]            2,049,000  True      \n",
       "______________________________________________________________________\n",
       "LayerNorm            [1, 1000]            2,000      True      \n",
       "______________________________________________________________________\n",
       "LayerNorm            [1, 1000]            2,000      True      \n",
       "______________________________________________________________________\n",
       "Dropout              [1, 1000]            0          False     \n",
       "______________________________________________________________________\n",
       "Dropout              [1, 1000]            0          False     \n",
       "______________________________________________________________________\n",
       "Linear               [1, 2048]            2,050,048  True      \n",
       "______________________________________________________________________\n",
       "Dropout              [1, 2048]            0          False     \n",
       "______________________________________________________________________\n",
       "Linear               [1, 1000]            2,049,000  True      \n",
       "______________________________________________________________________\n",
       "LayerNorm            [1, 1000]            2,000      True      \n",
       "______________________________________________________________________\n",
       "LayerNorm            [1, 1000]            2,000      True      \n",
       "______________________________________________________________________\n",
       "Dropout              [1, 1000]            0          False     \n",
       "______________________________________________________________________\n",
       "Dropout              [1, 1000]            0          False     \n",
       "______________________________________________________________________\n",
       "Linear               [1, 2048]            2,050,048  True      \n",
       "______________________________________________________________________\n",
       "Dropout              [1, 2048]            0          False     \n",
       "______________________________________________________________________\n",
       "Linear               [1, 1000]            2,049,000  True      \n",
       "______________________________________________________________________\n",
       "LayerNorm            [1, 1000]            2,000      True      \n",
       "______________________________________________________________________\n",
       "LayerNorm            [1, 1000]            2,000      True      \n",
       "______________________________________________________________________\n",
       "Dropout              [1, 1000]            0          False     \n",
       "______________________________________________________________________\n",
       "Dropout              [1, 1000]            0          False     \n",
       "______________________________________________________________________\n",
       "Linear               [1, 2048]            2,050,048  True      \n",
       "______________________________________________________________________\n",
       "Dropout              [1, 2048]            0          False     \n",
       "______________________________________________________________________\n",
       "Linear               [1, 1000]            2,049,000  True      \n",
       "______________________________________________________________________\n",
       "LayerNorm            [1, 1000]            2,000      True      \n",
       "______________________________________________________________________\n",
       "LayerNorm            [1, 1000]            2,000      True      \n",
       "______________________________________________________________________\n",
       "Dropout              [1, 1000]            0          False     \n",
       "______________________________________________________________________\n",
       "Dropout              [1, 1000]            0          False     \n",
       "______________________________________________________________________\n",
       "Linear               [1, 2048]            2,050,048  True      \n",
       "______________________________________________________________________\n",
       "Dropout              [1, 2048]            0          False     \n",
       "______________________________________________________________________\n",
       "Linear               [1, 1000]            2,049,000  True      \n",
       "______________________________________________________________________\n",
       "LayerNorm            [1, 1000]            2,000      True      \n",
       "______________________________________________________________________\n",
       "LayerNorm            [1, 1000]            2,000      True      \n",
       "______________________________________________________________________\n",
       "Dropout              [1, 1000]            0          False     \n",
       "______________________________________________________________________\n",
       "Dropout              [1, 1000]            0          False     \n",
       "______________________________________________________________________\n",
       "Linear               [1, 2048]            2,050,048  True      \n",
       "______________________________________________________________________\n",
       "Dropout              [1, 2048]            0          False     \n",
       "______________________________________________________________________\n",
       "Linear               [1, 1000]            2,049,000  True      \n",
       "______________________________________________________________________\n",
       "LayerNorm            [1, 1000]            2,000      True      \n",
       "______________________________________________________________________\n",
       "LayerNorm            [1, 1000]            2,000      True      \n",
       "______________________________________________________________________\n",
       "Dropout              [1, 1000]            0          False     \n",
       "______________________________________________________________________\n",
       "Dropout              [1, 1000]            0          False     \n",
       "______________________________________________________________________\n",
       "Linear               [1, 2048]            2,050,048  True      \n",
       "______________________________________________________________________\n",
       "Dropout              [1, 2048]            0          False     \n",
       "______________________________________________________________________\n",
       "Linear               [1, 1000]            2,049,000  True      \n",
       "______________________________________________________________________\n",
       "LayerNorm            [1, 1000]            2,000      True      \n",
       "______________________________________________________________________\n",
       "LayerNorm            [1, 1000]            2,000      True      \n",
       "______________________________________________________________________\n",
       "Dropout              [1, 1000]            0          False     \n",
       "______________________________________________________________________\n",
       "Dropout              [1, 1000]            0          False     \n",
       "______________________________________________________________________\n",
       "Linear               [1, 2048]            2,050,048  True      \n",
       "______________________________________________________________________\n",
       "Dropout              [1, 2048]            0          False     \n",
       "______________________________________________________________________\n",
       "Linear               [1, 1000]            2,049,000  True      \n",
       "______________________________________________________________________\n",
       "LayerNorm            [1, 1000]            2,000      True      \n",
       "______________________________________________________________________\n",
       "LayerNorm            [1, 1000]            2,000      True      \n",
       "______________________________________________________________________\n",
       "Dropout              [1, 1000]            0          False     \n",
       "______________________________________________________________________\n",
       "Dropout              [1, 1000]            0          False     \n",
       "______________________________________________________________________\n",
       "LayerNorm            [1, 1000]            2,000      True      \n",
       "______________________________________________________________________\n",
       "Dropout              [1, 1000]            0          False     \n",
       "______________________________________________________________________\n",
       "PositionalEncoding   [1000]               0          False     \n",
       "______________________________________________________________________\n",
       "AdaptiveAvgPool1d    [1000, 60]           0          False     \n",
       "______________________________________________________________________\n",
       "Conv1d               [1000, 60]           1,001,000  True      \n",
       "______________________________________________________________________\n",
       "\n",
       "Total params: 34,980,384\n",
       "Total trainable params: 34,980,384\n",
       "Total non-trainable params: 0\n",
       "Optimized with 'torch.optim.adam.Adam', betas=(0.9, 0.99)\n",
       "Using true weight decay as discussed in https://www.fast.ai/2018/07/02/adam-weight-decay/ \n",
       "Loss function : MaskedLoss\n",
       "======================================================================\n",
       "Callbacks functions applied "
      ]
     },
     "execution_count": 27,
     "metadata": {},
     "output_type": "execute_result"
    }
   ],
   "source": [
    "learner.summary()"
   ]
  },
  {
   "cell_type": "code",
   "execution_count": 28,
   "metadata": {},
   "outputs": [
    {
     "data": {
      "text/plain": [
       "YTTransformer(\n",
       "  (pre_encoder): Linear(in_features=1152, out_features=1000, bias=True)\n",
       "  (transformer): Transformer(\n",
       "    (encoder): TransformerEncoder(\n",
       "      (layers): ModuleList(\n",
       "        (0): TransformerEncoderLayer(\n",
       "          (self_attn): MultiheadAttention(\n",
       "            (out_proj): Linear(in_features=1000, out_features=1000, bias=True)\n",
       "          )\n",
       "          (linear1): Linear(in_features=1000, out_features=2048, bias=True)\n",
       "          (dropout): Dropout(p=0.0, inplace=False)\n",
       "          (linear2): Linear(in_features=2048, out_features=1000, bias=True)\n",
       "          (norm1): LayerNorm((1000,), eps=1e-05, elementwise_affine=True)\n",
       "          (norm2): LayerNorm((1000,), eps=1e-05, elementwise_affine=True)\n",
       "          (dropout1): Dropout(p=0.0, inplace=False)\n",
       "          (dropout2): Dropout(p=0.0, inplace=False)\n",
       "        )\n",
       "        (1): TransformerEncoderLayer(\n",
       "          (self_attn): MultiheadAttention(\n",
       "            (out_proj): Linear(in_features=1000, out_features=1000, bias=True)\n",
       "          )\n",
       "          (linear1): Linear(in_features=1000, out_features=2048, bias=True)\n",
       "          (dropout): Dropout(p=0.0, inplace=False)\n",
       "          (linear2): Linear(in_features=2048, out_features=1000, bias=True)\n",
       "          (norm1): LayerNorm((1000,), eps=1e-05, elementwise_affine=True)\n",
       "          (norm2): LayerNorm((1000,), eps=1e-05, elementwise_affine=True)\n",
       "          (dropout1): Dropout(p=0.0, inplace=False)\n",
       "          (dropout2): Dropout(p=0.0, inplace=False)\n",
       "        )\n",
       "        (2): TransformerEncoderLayer(\n",
       "          (self_attn): MultiheadAttention(\n",
       "            (out_proj): Linear(in_features=1000, out_features=1000, bias=True)\n",
       "          )\n",
       "          (linear1): Linear(in_features=1000, out_features=2048, bias=True)\n",
       "          (dropout): Dropout(p=0.0, inplace=False)\n",
       "          (linear2): Linear(in_features=2048, out_features=1000, bias=True)\n",
       "          (norm1): LayerNorm((1000,), eps=1e-05, elementwise_affine=True)\n",
       "          (norm2): LayerNorm((1000,), eps=1e-05, elementwise_affine=True)\n",
       "          (dropout1): Dropout(p=0.0, inplace=False)\n",
       "          (dropout2): Dropout(p=0.0, inplace=False)\n",
       "        )\n",
       "        (3): TransformerEncoderLayer(\n",
       "          (self_attn): MultiheadAttention(\n",
       "            (out_proj): Linear(in_features=1000, out_features=1000, bias=True)\n",
       "          )\n",
       "          (linear1): Linear(in_features=1000, out_features=2048, bias=True)\n",
       "          (dropout): Dropout(p=0.0, inplace=False)\n",
       "          (linear2): Linear(in_features=2048, out_features=1000, bias=True)\n",
       "          (norm1): LayerNorm((1000,), eps=1e-05, elementwise_affine=True)\n",
       "          (norm2): LayerNorm((1000,), eps=1e-05, elementwise_affine=True)\n",
       "          (dropout1): Dropout(p=0.0, inplace=False)\n",
       "          (dropout2): Dropout(p=0.0, inplace=False)\n",
       "        )\n",
       "        (4): TransformerEncoderLayer(\n",
       "          (self_attn): MultiheadAttention(\n",
       "            (out_proj): Linear(in_features=1000, out_features=1000, bias=True)\n",
       "          )\n",
       "          (linear1): Linear(in_features=1000, out_features=2048, bias=True)\n",
       "          (dropout): Dropout(p=0.0, inplace=False)\n",
       "          (linear2): Linear(in_features=2048, out_features=1000, bias=True)\n",
       "          (norm1): LayerNorm((1000,), eps=1e-05, elementwise_affine=True)\n",
       "          (norm2): LayerNorm((1000,), eps=1e-05, elementwise_affine=True)\n",
       "          (dropout1): Dropout(p=0.0, inplace=False)\n",
       "          (dropout2): Dropout(p=0.0, inplace=False)\n",
       "        )\n",
       "        (5): TransformerEncoderLayer(\n",
       "          (self_attn): MultiheadAttention(\n",
       "            (out_proj): Linear(in_features=1000, out_features=1000, bias=True)\n",
       "          )\n",
       "          (linear1): Linear(in_features=1000, out_features=2048, bias=True)\n",
       "          (dropout): Dropout(p=0.0, inplace=False)\n",
       "          (linear2): Linear(in_features=2048, out_features=1000, bias=True)\n",
       "          (norm1): LayerNorm((1000,), eps=1e-05, elementwise_affine=True)\n",
       "          (norm2): LayerNorm((1000,), eps=1e-05, elementwise_affine=True)\n",
       "          (dropout1): Dropout(p=0.0, inplace=False)\n",
       "          (dropout2): Dropout(p=0.0, inplace=False)\n",
       "        )\n",
       "        (6): TransformerEncoderLayer(\n",
       "          (self_attn): MultiheadAttention(\n",
       "            (out_proj): Linear(in_features=1000, out_features=1000, bias=True)\n",
       "          )\n",
       "          (linear1): Linear(in_features=1000, out_features=2048, bias=True)\n",
       "          (dropout): Dropout(p=0.0, inplace=False)\n",
       "          (linear2): Linear(in_features=2048, out_features=1000, bias=True)\n",
       "          (norm1): LayerNorm((1000,), eps=1e-05, elementwise_affine=True)\n",
       "          (norm2): LayerNorm((1000,), eps=1e-05, elementwise_affine=True)\n",
       "          (dropout1): Dropout(p=0.0, inplace=False)\n",
       "          (dropout2): Dropout(p=0.0, inplace=False)\n",
       "        )\n",
       "        (7): TransformerEncoderLayer(\n",
       "          (self_attn): MultiheadAttention(\n",
       "            (out_proj): Linear(in_features=1000, out_features=1000, bias=True)\n",
       "          )\n",
       "          (linear1): Linear(in_features=1000, out_features=2048, bias=True)\n",
       "          (dropout): Dropout(p=0.0, inplace=False)\n",
       "          (linear2): Linear(in_features=2048, out_features=1000, bias=True)\n",
       "          (norm1): LayerNorm((1000,), eps=1e-05, elementwise_affine=True)\n",
       "          (norm2): LayerNorm((1000,), eps=1e-05, elementwise_affine=True)\n",
       "          (dropout1): Dropout(p=0.0, inplace=False)\n",
       "          (dropout2): Dropout(p=0.0, inplace=False)\n",
       "        )\n",
       "      )\n",
       "      (norm): LayerNorm((1000,), eps=1e-05, elementwise_affine=True)\n",
       "    )\n",
       "    (decoder): DummyDecoder(\n",
       "      (dropout): Dropout(p=0.0, inplace=False)\n",
       "    )\n",
       "  )\n",
       "  (pos_enc): PositionalEncoding()\n",
       "  (label_pool0): AdaptiveAvgPool1d(output_size=1)\n",
       "  (label_pool1): AdaptiveMaxPool1d(output_size=1)\n",
       "  (label_decoder): Linear(in_features=2000, out_features=1000, bias=True)\n",
       "  (segment_pool): AdaptiveAvgPool1d(output_size=60)\n",
       "  (segment_decoder): Conv1d(1000, 1000, kernel_size=(1,), stride=(1,))\n",
       ")"
      ]
     },
     "execution_count": 28,
     "metadata": {},
     "output_type": "execute_result"
    }
   ],
   "source": [
    "learner.model"
   ]
  },
  {
   "cell_type": "code",
   "execution_count": 29,
   "metadata": {},
   "outputs": [],
   "source": [
    "#learner.load('1k-3epochs-0.011183',strict=False,with_opt=False)"
   ]
  },
  {
   "cell_type": "code",
   "execution_count": 30,
   "metadata": {},
   "outputs": [],
   "source": [
    "learner = learner.to_parallel()#loss_scale=128, dynamic=False)\n",
    "data.batch_size = (16+8) * torch.cuda.device_count()\n",
    "data.batch_size *= int(any([isinstance(cb, MixedPrecision) for cb in learner.callbacks]))+1 # 2x if fp16 1x otherwise"
   ]
  },
  {
   "cell_type": "code",
   "execution_count": 31,
   "metadata": {},
   "outputs": [
    {
     "name": "stdout",
     "output_type": "stream",
     "text": [
      "rm: cannot remove 'models/bestmodel.pth': No such file or directory\r\n"
     ]
    },
    {
     "data": {
      "text/html": [],
      "text/plain": [
       "<IPython.core.display.HTML object>"
      ]
     },
     "metadata": {},
     "output_type": "display_data"
    },
    {
     "name": "stdout",
     "output_type": "stream",
     "text": [
      "LR Finder is complete, type {learner_name}.recorder.plot() to see the graph.\n",
      "Min numerical gradient: 7.59E-01\n",
      "Min loss divided by 10: 3.31E-01\n"
     ]
    },
    {
     "data": {
      "image/png": "[encoded data removed]",
      "text/plain": [
       "<Figure size 432x288 with 1 Axes>"
      ]
     },
     "metadata": {
      "needs_background": "light"
     },
     "output_type": "display_data"
    }
   ],
   "source": [
    "!rm models/bestmodel.pth\n",
    "learner.lr_find()\n",
    "learner.recorder.plot(suggestion=True)\n"
   ]
  },
  {
   "cell_type": "code",
   "execution_count": null,
   "metadata": {},
   "outputs": [
    {
     "data": {
      "text/html": [
       "\n",
       "    <div>\n",
       "        <style>\n",
       "            /* Turns off some styling */\n",
       "            progress {\n",
       "                /* gets rid of default border in Firefox and Opera. */\n",
       "                border: none;\n",
       "                /* Needs to be in here for Safari polyfill so background images work as expected. */\n",
       "                background-size: auto;\n",
       "            }\n",
       "            .progress-bar-interrupted, .progress-bar-interrupted::-webkit-progress-bar {\n",
       "                background: #F44336;\n",
       "            }\n",
       "        </style>\n",
       "      <progress value='0' class='' max='1', style='width:300px; height:20px; vertical-align: middle;'></progress>\n",
       "      0.00% [0/1 00:00<00:00]\n",
       "    </div>\n",
       "    \n",
       "<table border=\"1\" class=\"dataframe\">\n",
       "  <thead>\n",
       "    <tr style=\"text-align: left;\">\n",
       "      <th>epoch</th>\n",
       "      <th>train_loss</th>\n",
       "      <th>valid_loss</th>\n",
       "      <th>time</th>\n",
       "    </tr>\n",
       "  </thead>\n",
       "  <tbody>\n",
       "  </tbody>\n",
       "</table><p>\n",
       "\n",
       "    <div>\n",
       "        <style>\n",
       "            /* Turns off some styling */\n",
       "            progress {\n",
       "                /* gets rid of default border in Firefox and Opera. */\n",
       "                border: none;\n",
       "                /* Needs to be in here for Safari polyfill so background images work as expected. */\n",
       "                background-size: auto;\n",
       "            }\n",
       "            .progress-bar-interrupted, .progress-bar-interrupted::-webkit-progress-bar {\n",
       "                background: #F44336;\n",
       "            }\n",
       "        </style>\n",
       "      <progress value='858' class='' max='29129', style='width:300px; height:20px; vertical-align: middle;'></progress>\n",
       "      2.95% [858/29129 08:44<4:48:17 0.0145]\n",
       "    </div>\n",
       "    "
      ],
      "text/plain": [
       "<IPython.core.display.HTML object>"
      ]
     },
     "metadata": {},
     "output_type": "display_data"
    }
   ],
   "source": [
    "learner.fit_fc(1, 4e-1)"
   ]
  },
  {
   "cell_type": "code",
   "execution_count": null,
   "metadata": {},
   "outputs": [],
   "source": [
    "learner.save('1k-3epochs-0.011183')"
   ]
  },
  {
   "cell_type": "code",
   "execution_count": null,
   "metadata": {},
   "outputs": [],
   "source": [
    "p = learner.get_preds(DatasetType.Valid)"
   ]
  },
  {
   "cell_type": "code",
   "execution_count": null,
   "metadata": {},
   "outputs": [],
   "source": [
    "for batch_idx, batch in progress_bar(\n",
    "    enumerate(learner.dl(DatasetType.Train)), total=len(learner.dl(DatasetType.Train))):\n",
    "    p = learner.pred_batch(DatasetType.Train, batch=batch)\n",
    "    break"
   ]
  },
  {
   "cell_type": "code",
   "execution_count": null,
   "metadata": {},
   "outputs": [],
   "source": [
    "p[0]"
   ]
  },
  {
   "cell_type": "code",
   "execution_count": null,
   "metadata": {},
   "outputs": [],
   "source": [
    "for i in range(200): print(torch.argmax(p[0][i]))"
   ]
  },
  {
   "cell_type": "code",
   "execution_count": null,
   "metadata": {},
   "outputs": [],
   "source": [
    "torch.sigmoid(p[23][0])"
   ]
  },
  {
   "cell_type": "code",
   "execution_count": null,
   "metadata": {},
   "outputs": [],
   "source": [
    "p"
   ]
  },
  {
   "cell_type": "code",
   "execution_count": null,
   "metadata": {},
   "outputs": [],
   "source": [
    "p[0].shape"
   ]
  },
  {
   "cell_type": "code",
   "execution_count": null,
   "metadata": {},
   "outputs": [],
   "source": [
    "p[0].shape"
   ]
  },
  {
   "cell_type": "code",
   "execution_count": null,
   "metadata": {},
   "outputs": [],
   "source": [
    "torch.sigmoid(p[1])"
   ]
  },
  {
   "cell_type": "code",
   "execution_count": null,
   "metadata": {},
   "outputs": [],
   "source": [
    "np.where(torch.sigmoid(p[1])>=0.5)"
   ]
  },
  {
   "cell_type": "code",
   "execution_count": null,
   "metadata": {},
   "outputs": [],
   "source": [
    "data.valid_ds"
   ]
  },
  {
   "cell_type": "code",
   "execution_count": null,
   "metadata": {},
   "outputs": [],
   "source": []
  }
 ],
 "metadata": {
  "kernelspec": {
   "display_name": "Python 3",
   "language": "python",
   "name": "python3"
  },
  "language_info": {
   "codemirror_mode": {
    "name": "ipython",
    "version": 3
   },
   "file_extension": ".py",
   "mimetype": "text/x-python",
   "name": "python",
   "nbconvert_exporter": "python",
   "pygments_lexer": "ipython3",
   "version": "3.7.3"
  }
 },
 "nbformat": 4,
 "nbformat_minor": 2
}
